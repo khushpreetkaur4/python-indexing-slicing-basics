{
 "cells": [
  {
   "cell_type": "code",
   "execution_count": null,
   "id": "428578f9-e28a-4c05-a8a3-8b8c1ac214dc",
   "metadata": {},
   "outputs": [],
   "source": [
    "#30jan"
   ]
  },
  {
   "cell_type": "code",
   "execution_count": 1,
   "id": "c6b16db6-04a6-4799-8f8b-7d63ffe793de",
   "metadata": {},
   "outputs": [],
   "source": [
    "#python is the programming lang. obeys scripting and oops\n",
    "#scripting is that coding or lines of code which doesnt obey concepts of oops prog lang"
   ]
  },
  {
   "cell_type": "code",
   "execution_count": null,
   "id": "5e66da04-91d0-4f96-9173-5fa023da4bce",
   "metadata": {},
   "outputs": [],
   "source": [
    "a=10\n",
    "#a is variable\n",
    "\"\"\"python variable is use to store some value in it \"\"\"\n",
    "\n",
    "\"\"\"or if there are 100 line of data nd we have to use that data  again and again  we will just store that value in  variable and simply call that \n",
    "variable ...in this way i will just call the variable rather than writting 100 of lines of data\n",
    "\n",
    "-> python has ability to know the type of data store in variable ..in other languages we have to mention with data about the data type\n",
    "like in this example python knows that 10 is integer..we need not to mention here."
   ]
  },
  {
   "cell_type": "code",
   "execution_count": null,
   "id": "da07a15f-5d7a-4c80-acfb-48aa7ad6da3d",
   "metadata": {},
   "outputs": [],
   "source": [
    "b=10.2\n",
    "type(b)\n",
    "#here , on calling the type function it tells the type of data store in variable"
   ]
  },
  {
   "cell_type": "code",
   "execution_count": null,
   "id": "42151e29-062e-40ef-946a-88adcbcd14eb",
   "metadata": {},
   "outputs": [],
   "source": [
    "#the data stored within '' or\"\" is always a string type  ..even if the data is integer and store using \"\" or'' than it is also a string.\n",
    "                    \n",
    "            '''  types of data\n",
    "        1. string  ( str )  eg : 'this is python' or \"this is python\"\n",
    "        2. float   (float)  eg : 10.02\n",
    "        3. integer ( int )  eg : 5, -5,0 etc\n",
    "        4. boolean ( bool ) eg : true , false .. here true is internaly 1 and false is 0\n",
    "        5. complex(complex) eg : 8+3j or 8+3J ..here 8 is real no. and 3 is imaginary no."
   ]
  },
  {
   "cell_type": "code",
   "execution_count": 8,
   "id": "6660c8c5-ac21-4a5d-bfe8-47681342f8f7",
   "metadata": {},
   "outputs": [
    {
     "data": {
      "text/plain": [
       "complex"
      ]
     },
     "execution_count": 8,
     "metadata": {},
     "output_type": "execute_result"
    }
   ],
   "source": [
    "x= 5+4j\n",
    "type(x)\n"
   ]
  },
  {
   "cell_type": "code",
   "execution_count": 9,
   "id": "34c8bc6b-2bcd-4e3e-9f9e-10eb30481aaf",
   "metadata": {},
   "outputs": [
    {
     "data": {
      "text/plain": [
       "5.0"
      ]
     },
     "execution_count": 9,
     "metadata": {},
     "output_type": "execute_result"
    }
   ],
   "source": [
    "x.real"
   ]
  },
  {
   "cell_type": "code",
   "execution_count": 10,
   "id": "928c28cf-fd29-4427-b4dd-82e9cfedd545",
   "metadata": {},
   "outputs": [
    {
     "data": {
      "text/plain": [
       "4.0"
      ]
     },
     "execution_count": 10,
     "metadata": {},
     "output_type": "execute_result"
    }
   ],
   "source": [
    "x.imag"
   ]
  },
  {
   "cell_type": "code",
   "execution_count": 11,
   "id": "3277ea66-af8d-42b2-ba9d-694720c814d0",
   "metadata": {},
   "outputs": [
    {
     "name": "stdout",
     "output_type": "stream",
     "text": [
      "(5+4j)\n"
     ]
    }
   ],
   "source": [
    "#print function usage\n",
    "print(x)"
   ]
  },
  {
   "cell_type": "code",
   "execution_count": 12,
   "id": "45b8eed3-9c67-4446-862f-54bbdf15f1ba",
   "metadata": {},
   "outputs": [
    {
     "name": "stdout",
     "output_type": "stream",
     "text": [
      "khushi\n"
     ]
    }
   ],
   "source": [
    "print(\"khushi\")"
   ]
  },
  {
   "cell_type": "code",
   "execution_count": 13,
   "id": "8ce1573e-4b75-41dc-baf0-281fe73f9f05",
   "metadata": {},
   "outputs": [
    {
     "name": "stdout",
     "output_type": "stream",
     "text": [
      "print\n"
     ]
    }
   ],
   "source": [
    "print('print')"
   ]
  },
  {
   "cell_type": "code",
   "execution_count": 14,
   "id": "763b9729-ce60-47bd-8ad0-17dcf0a76257",
   "metadata": {},
   "outputs": [],
   "source": [
    "#therefore, print function is use to print some value present in varialble , within print func. brackets , within \"\" or'' of print func.\n"
   ]
  },
  {
   "cell_type": "code",
   "execution_count": 15,
   "id": "4f472b14-c21d-40cd-a02e-58e2a9c091b6",
   "metadata": {},
   "outputs": [
    {
     "data": {
      "text/plain": [
       "'k'"
      ]
     },
     "execution_count": 15,
     "metadata": {},
     "output_type": "execute_result"
    }
   ],
   "source": [
    "'''for finding the charaters in the string''' #using indexing\n",
    "'''indexing can be done in foward as well as backward way in foward way it starts from zero eg 0,1,2,,3,4 nd in backward way indexing its starts \n",
    "from last character of string like -5,-4,-3,-2,-1'''\n",
    "s='khushi'\n",
    "s[0]"
   ]
  },
  {
   "cell_type": "code",
   "execution_count": 17,
   "id": "cda66295-5ead-4dd0-9f36-edd5b4b646c6",
   "metadata": {},
   "outputs": [
    {
     "data": {
      "text/plain": [
       "'h'"
      ]
     },
     "execution_count": 17,
     "metadata": {},
     "output_type": "execute_result"
    }
   ],
   "source": [
    "s[4]"
   ]
  },
  {
   "cell_type": "code",
   "execution_count": 18,
   "id": "ef2943a4-c319-44f0-9aac-fe4ac88e279f",
   "metadata": {},
   "outputs": [
    {
     "data": {
      "text/plain": [
       "'h'"
      ]
     },
     "execution_count": 18,
     "metadata": {},
     "output_type": "execute_result"
    }
   ],
   "source": [
    "s[-2]"
   ]
  },
  {
   "cell_type": "code",
   "execution_count": 20,
   "id": "2b2d896c-d9e3-4ffc-bd21-a7e5f694902b",
   "metadata": {},
   "outputs": [
    {
     "data": {
      "text/plain": [
       "'khus'"
      ]
     },
     "execution_count": 20,
     "metadata": {},
     "output_type": "execute_result"
    }
   ],
   "source": [
    "s[0:4] # this is known as slicing ..in this eg. 0 is lower bound and 4 is upper bound\n"
   ]
  },
  {
   "cell_type": "code",
   "execution_count": 27,
   "id": "a2739d88-3fb8-415d-aca0-901849cda7ce",
   "metadata": {},
   "outputs": [
    {
     "data": {
      "text/plain": [
       "'ush'"
      ]
     },
     "execution_count": 27,
     "metadata": {},
     "output_type": "execute_result"
    }
   ],
   "source": [
    "s[-4:-1]"
   ]
  },
  {
   "cell_type": "code",
   "execution_count": 28,
   "id": "74bfedeb-f9a8-4aab-b3e4-36eb4f9cb4ff",
   "metadata": {},
   "outputs": [
    {
     "data": {
      "text/plain": [
       "'kuh'"
      ]
     },
     "execution_count": 28,
     "metadata": {},
     "output_type": "execute_result"
    }
   ],
   "source": [
    "s[0:7:2] # here 2 is 3rd parameter represents the jump "
   ]
  },
  {
   "cell_type": "code",
   "execution_count": 29,
   "id": "da7a3e2b-cf89-4741-9aea-fd03f3211196",
   "metadata": {},
   "outputs": [
    {
     "data": {
      "text/plain": [
       "'kuh'"
      ]
     },
     "execution_count": 29,
     "metadata": {},
     "output_type": "execute_result"
    }
   ],
   "source": [
    "s[::2]"
   ]
  },
  {
   "cell_type": "code",
   "execution_count": 30,
   "id": "73d8d289-ab58-4ad7-a57f-51e2765e65c0",
   "metadata": {},
   "outputs": [
    {
     "data": {
      "text/plain": [
       "'ihsuhk'"
      ]
     },
     "execution_count": 30,
     "metadata": {},
     "output_type": "execute_result"
    }
   ],
   "source": [
    "s[::-1]"
   ]
  },
  {
   "cell_type": "code",
   "execution_count": 37,
   "id": "36511aa3-4f9d-4463-ad2f-996ded2b04b5",
   "metadata": {},
   "outputs": [
    {
     "data": {
      "text/plain": [
       "'ihsuhk'"
      ]
     },
     "execution_count": 37,
     "metadata": {},
     "output_type": "execute_result"
    }
   ],
   "source": [
    "s[-1:-7:-1]"
   ]
  },
  {
   "cell_type": "code",
   "execution_count": 33,
   "id": "d7b1dee3-7950-4995-b6af-d76d11323946",
   "metadata": {},
   "outputs": [
    {
     "data": {
      "text/plain": [
       "''"
      ]
     },
     "execution_count": 33,
     "metadata": {},
     "output_type": "execute_result"
    }
   ],
   "source": [
    "s[-1:-5]"
   ]
  },
  {
   "cell_type": "code",
   "execution_count": 35,
   "id": "bd6e2771-a651-4446-a13e-399f8d3c33ed",
   "metadata": {},
   "outputs": [
    {
     "data": {
      "text/plain": [
       "'is'"
      ]
     },
     "execution_count": 35,
     "metadata": {},
     "output_type": "execute_result"
    }
   ],
   "source": [
    "s[-1:-5:-2]"
   ]
  },
  {
   "cell_type": "code",
   "execution_count": 38,
   "id": "3fcddda6-f223-412a-b74b-3b22f2d9aaef",
   "metadata": {},
   "outputs": [
    {
     "ename": "IndexError",
     "evalue": "string index out of range",
     "output_type": "error",
     "traceback": [
      "\u001b[0;31m---------------------------------------------------------------------------\u001b[0m",
      "\u001b[0;31mIndexError\u001b[0m                                Traceback (most recent call last)",
      "Cell \u001b[0;32mIn [38], line 1\u001b[0m\n\u001b[0;32m----> 1\u001b[0m \u001b[43ms\u001b[49m\u001b[43m[\u001b[49m\u001b[38;5;241;43m-\u001b[39;49m\u001b[38;5;241;43m90\u001b[39;49m\u001b[43m]\u001b[49m\n",
      "\u001b[0;31mIndexError\u001b[0m: string index out of range"
     ]
    }
   ],
   "source": [
    "s[-90]"
   ]
  },
  {
   "cell_type": "code",
   "execution_count": null,
   "id": "3c74b1a8-7268-4953-b5de-d468b123ba3c",
   "metadata": {},
   "outputs": [],
   "source": [
    "s[:-90:-1]  '''in the above case we want to find out particular index i.e -90 which is not present whereas in this case we alot range not a particular \n",
    "             index"
   ]
  },
  {
   "cell_type": "code",
   "execution_count": null,
   "id": "702d13d9-d10c-47c2-956d-0ae315eba7b8",
   "metadata": {},
   "outputs": [],
   "source": [
    "p=100 '''in this case if we want to assign index to integer 1 ..it is not possible bcs it is stored in memory as one where as we can find index of \n",
    "character of string bcs the data of string is stored in memory in  a way that all characters hve particular index\n",
    "if we add '' to 100 .. now 100 become a string ..now we can use concept of index and slicing here"
   ]
  },
  {
   "cell_type": "code",
   "execution_count": null,
   "id": "17427bff-e9d7-4f23-b066-28cd01828ca8",
   "metadata": {},
   "outputs": [],
   "source": [
    "#the cell where output come is known as console."
   ]
  },
  {
   "cell_type": "code",
   "execution_count": 44,
   "id": "8a788a20-7b3f-453f-b598-89b455ece554",
   "metadata": {},
   "outputs": [
    {
     "data": {
      "text/plain": [
       "15"
      ]
     },
     "execution_count": 44,
     "metadata": {},
     "output_type": "execute_result"
    }
   ],
   "source": [
    "f='sehaj is a boy '\n",
    "len(f)"
   ]
  },
  {
   "cell_type": "code",
   "execution_count": 46,
   "id": "497c7489-a006-4e30-9c1a-ff89e89a8a49",
   "metadata": {},
   "outputs": [
    {
     "data": {
      "text/plain": [
       "2"
      ]
     },
     "execution_count": 46,
     "metadata": {},
     "output_type": "execute_result"
    }
   ],
   "source": [
    "f.count('a')"
   ]
  },
  {
   "cell_type": "code",
   "execution_count": 47,
   "id": "f29bd349-8fc3-487d-9fba-655eabd68ced",
   "metadata": {},
   "outputs": [
    {
     "data": {
      "text/plain": [
       "3"
      ]
     },
     "execution_count": 47,
     "metadata": {},
     "output_type": "execute_result"
    }
   ],
   "source": [
    "f.find('a') # note that there are 2 'a' in the sentence but find fuction will always return the lowest index of repeting character"
   ]
  },
  {
   "cell_type": "code",
   "execution_count": 48,
   "id": "1b922458-4cea-477c-ae06-ad74f677bac2",
   "metadata": {},
   "outputs": [
    {
     "data": {
      "text/plain": [
       "'SEHAJ IS A BOY '"
      ]
     },
     "execution_count": 48,
     "metadata": {},
     "output_type": "execute_result"
    }
   ],
   "source": [
    "f.upper()"
   ]
  },
  {
   "cell_type": "code",
   "execution_count": 49,
   "id": "b863af11-2a07-4a40-8940-77f5c071e112",
   "metadata": {},
   "outputs": [
    {
     "data": {
      "text/plain": [
       "'sehaj is a boy '"
      ]
     },
     "execution_count": 49,
     "metadata": {},
     "output_type": "execute_result"
    }
   ],
   "source": [
    "f.lower()"
   ]
  },
  {
   "cell_type": "code",
   "execution_count": 50,
   "id": "ebafa979-2a42-4e45-8739-f6bc273e7518",
   "metadata": {},
   "outputs": [
    {
     "data": {
      "text/plain": [
       "'Sehaj Is A Boy '"
      ]
     },
     "execution_count": 50,
     "metadata": {},
     "output_type": "execute_result"
    }
   ],
   "source": [
    "f.title()"
   ]
  },
  {
   "cell_type": "code",
   "execution_count": 51,
   "id": "faed7bdc-27bd-432a-a281-cad59b9bc3b3",
   "metadata": {},
   "outputs": [
    {
     "data": {
      "text/plain": [
       "'Sehaj is a boy '"
      ]
     },
     "execution_count": 51,
     "metadata": {},
     "output_type": "execute_result"
    }
   ],
   "source": [
    "f.capitalize()"
   ]
  },
  {
   "cell_type": "code",
   "execution_count": 53,
   "id": "f6502619-b826-482a-986b-7b2df54c6c97",
   "metadata": {},
   "outputs": [
    {
     "ename": "TypeError",
     "evalue": "can only concatenate str (not \"int\") to str",
     "output_type": "error",
     "traceback": [
      "\u001b[0;31m---------------------------------------------------------------------------\u001b[0m",
      "\u001b[0;31mTypeError\u001b[0m                                 Traceback (most recent call last)",
      "Cell \u001b[0;32mIn [53], line 7\u001b[0m\n\u001b[1;32m      1\u001b[0m \u001b[38;5;124;03m''' in string \u001b[39;00m\n\u001b[1;32m      2\u001b[0m \u001b[38;5;124;03mwe have f='sehaj' and we want to do concatenation here i.e f+1 ..this is not possible ...to conactenate both we have to convert integer into str.\u001b[39;00m\n\u001b[1;32m      3\u001b[0m \u001b[38;5;124;03mwhereas we can easily add or concatenate float and integers\u001b[39;00m\n\u001b[1;32m      4\u001b[0m \u001b[38;5;124;03mbelow is the example:   '''\u001b[39;00m\n\u001b[1;32m      6\u001b[0m f\u001b[38;5;241m=\u001b[39m\u001b[38;5;124m'\u001b[39m\u001b[38;5;124msehaj\u001b[39m\u001b[38;5;124m'\u001b[39m\n\u001b[0;32m----> 7\u001b[0m \u001b[38;5;28mprint\u001b[39m(\u001b[43mf\u001b[49m\u001b[38;5;241;43m+\u001b[39;49m\u001b[38;5;241;43m1\u001b[39;49m)\n",
      "\u001b[0;31mTypeError\u001b[0m: can only concatenate str (not \"int\") to str"
     ]
    }
   ],
   "source": [
    "''' in string \n",
    "we have f='sehaj' and we want to do concatenation here i.e f+1 ..this is not possible ...to conactenate both we have to convert integer into str.\n",
    "whereas we can easily add or concatenate float and integers\n",
    "below is the example:   '''\n",
    "\n",
    "f='sehaj'\n",
    "print(f+1)"
   ]
  },
  {
   "cell_type": "code",
   "execution_count": 54,
   "id": "dd077cae-8eb7-4992-8143-b01b18b59ce8",
   "metadata": {},
   "outputs": [
    {
     "data": {
      "text/plain": [
       "12.02"
      ]
     },
     "execution_count": 54,
     "metadata": {},
     "output_type": "execute_result"
    }
   ],
   "source": [
    "# whereas \n",
    "f=10.02\n",
    "d=2\n",
    "f+d"
   ]
  },
  {
   "cell_type": "code",
   "execution_count": 56,
   "id": "35d0508f-f98d-4b79-b8cc-81c11cb17ff2",
   "metadata": {},
   "outputs": [
    {
     "data": {
      "text/plain": [
       "'sehajsehajsehaj'"
      ]
     },
     "execution_count": 56,
     "metadata": {},
     "output_type": "execute_result"
    }
   ],
   "source": [
    "f='sehaj'\n",
    "f*3"
   ]
  },
  {
   "cell_type": "code",
   "execution_count": null,
   "id": "cc67e3f2-d413-4823-9202-3e553fd7a308",
   "metadata": {},
   "outputs": [],
   "source": []
  }
 ],
 "metadata": {
  "kernelspec": {
   "display_name": "Python 3 (ipykernel)",
   "language": "python",
   "name": "python3"
  },
  "language_info": {
   "codemirror_mode": {
    "name": "ipython",
    "version": 3
   },
   "file_extension": ".py",
   "mimetype": "text/x-python",
   "name": "python",
   "nbconvert_exporter": "python",
   "pygments_lexer": "ipython3",
   "version": "3.10.6"
  }
 },
 "nbformat": 4,
 "nbformat_minor": 5
}
